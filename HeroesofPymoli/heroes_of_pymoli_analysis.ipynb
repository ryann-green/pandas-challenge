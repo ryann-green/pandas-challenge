{
 "cells": [
  {
   "cell_type": "code",
   "execution_count": 27,
   "metadata": {
    "jupyter": {
     "source_hidden": true
    }
   },
   "outputs": [],
   "source": [
    "import pandas as pd"
   ]
  },
  {
   "cell_type": "code",
   "execution_count": 28,
   "metadata": {
    "jupyter": {
     "source_hidden": true
    }
   },
   "outputs": [],
   "source": [
    "#file to load into notebook\n",
    "file= \"Resources/purchase_data.csv\"\n",
    "\n",
    "#store the purchase_data file into a data frame\n",
    "heroes_data = pd.read_csv(file)"
   ]
  },
  {
   "cell_type": "code",
   "execution_count": 35,
   "metadata": {
    "jupyter": {
     "source_hidden": true
    }
   },
   "outputs": [
    {
     "data": {
      "text/html": [
       "<div>\n",
       "<style scoped>\n",
       "    .dataframe tbody tr th:only-of-type {\n",
       "        vertical-align: middle;\n",
       "    }\n",
       "\n",
       "    .dataframe tbody tr th {\n",
       "        vertical-align: top;\n",
       "    }\n",
       "\n",
       "    .dataframe thead th {\n",
       "        text-align: right;\n",
       "    }\n",
       "</style>\n",
       "<table border=\"1\" class=\"dataframe\">\n",
       "  <thead>\n",
       "    <tr style=\"text-align: right;\">\n",
       "      <th></th>\n",
       "      <th>Total Players</th>\n",
       "    </tr>\n",
       "  </thead>\n",
       "  <tbody>\n",
       "    <tr>\n",
       "      <th>0</th>\n",
       "      <td>576</td>\n",
       "    </tr>\n",
       "  </tbody>\n",
       "</table>\n",
       "</div>"
      ],
      "text/plain": [
       "   Total Players\n",
       "0            576"
      ]
     },
     "execution_count": 35,
     "metadata": {},
     "output_type": "execute_result"
    }
   ],
   "source": [
    "#display the total number of players creating a dataframe and a list to use for later\n",
    "total_players_df = pd.DataFrame([{\"Total Players\":(heroes_data[\"SN\"].nunique())}])\n",
    "total_players = total_players_df.iloc[0,0]\n",
    "\n",
    "#value\n",
    "total_players\n",
    "\n",
    "#dataframe\n",
    "total_players_df"
   ]
  },
  {
   "cell_type": "code",
   "execution_count": 30,
   "metadata": {
    "jupyter": {
     "source_hidden": true
    }
   },
   "outputs": [
    {
     "data": {
      "text/html": [
       "<div>\n",
       "<style scoped>\n",
       "    .dataframe tbody tr th:only-of-type {\n",
       "        vertical-align: middle;\n",
       "    }\n",
       "\n",
       "    .dataframe tbody tr th {\n",
       "        vertical-align: top;\n",
       "    }\n",
       "\n",
       "    .dataframe thead th {\n",
       "        text-align: right;\n",
       "    }\n",
       "</style>\n",
       "<table border=\"1\" class=\"dataframe\">\n",
       "  <thead>\n",
       "    <tr style=\"text-align: right;\">\n",
       "      <th></th>\n",
       "      <th>Number of Unique Items</th>\n",
       "      <th>Average Price</th>\n",
       "      <th>Number of Purchases</th>\n",
       "      <th>Total Revenue</th>\n",
       "    </tr>\n",
       "  </thead>\n",
       "  <tbody>\n",
       "    <tr>\n",
       "      <th>0</th>\n",
       "      <td>179</td>\n",
       "      <td>$3.05</td>\n",
       "      <td>780</td>\n",
       "      <td>$2,379.77</td>\n",
       "    </tr>\n",
       "  </tbody>\n",
       "</table>\n",
       "</div>"
      ],
      "text/plain": [
       "   Number of Unique Items Average Price  Number of Purchases Total Revenue\n",
       "0                     179         $3.05                  780     $2,379.77"
      ]
     },
     "execution_count": 30,
     "metadata": {},
     "output_type": "execute_result"
    }
   ],
   "source": [
    "#find the number of unique items, average price, number of purchases, total revenue\n",
    "purchasing_analysis = pd.DataFrame(\n",
    "    [{\"Number of Unique Items\":heroes_data[\"Item Name\"].nunique(),\n",
    "        \"Average Price\": heroes_data[\"Price\"].mean(), \n",
    "        \"Number of Purchases\": heroes_data[\"Purchase ID\"].count(),\n",
    "        \"Total Revenue\": heroes_data[\"Price\"].sum()}])\n",
    "\n",
    "#purchasing_analysis.info()\n",
    "#use map to format my columns\n",
    "purchasing_analysis[\"Average Price\"] = purchasing_analysis[\"Average Price\"].map(\"${:.2f}\".format)\n",
    "purchasing_analysis[\"Total Revenue\"] = purchasing_analysis[\"Total Revenue\"].map(\"${:,.2f}\".format)\n",
    "\n",
    "purchasing_analysis"
   ]
  },
  {
   "cell_type": "code",
   "execution_count": 31,
   "metadata": {
    "jupyter": {
     "source_hidden": true
    }
   },
   "outputs": [
    {
     "data": {
      "text/html": [
       "<div>\n",
       "<style scoped>\n",
       "    .dataframe tbody tr th:only-of-type {\n",
       "        vertical-align: middle;\n",
       "    }\n",
       "\n",
       "    .dataframe tbody tr th {\n",
       "        vertical-align: top;\n",
       "    }\n",
       "\n",
       "    .dataframe thead th {\n",
       "        text-align: right;\n",
       "    }\n",
       "</style>\n",
       "<table border=\"1\" class=\"dataframe\">\n",
       "  <thead>\n",
       "    <tr style=\"text-align: right;\">\n",
       "      <th></th>\n",
       "      <th>Gender</th>\n",
       "      <th>Percentage of Players</th>\n",
       "    </tr>\n",
       "  </thead>\n",
       "  <tbody>\n",
       "    <tr>\n",
       "      <th>Male</th>\n",
       "      <td>484</td>\n",
       "      <td>84.03%</td>\n",
       "    </tr>\n",
       "    <tr>\n",
       "      <th>Female</th>\n",
       "      <td>81</td>\n",
       "      <td>14.06%</td>\n",
       "    </tr>\n",
       "    <tr>\n",
       "      <th>Other / Non-Disclosed</th>\n",
       "      <td>11</td>\n",
       "      <td>1.91%</td>\n",
       "    </tr>\n",
       "  </tbody>\n",
       "</table>\n",
       "</div>"
      ],
      "text/plain": [
       "                       Gender Percentage of Players\n",
       "Male                      484                84.03%\n",
       "Female                     81                14.06%\n",
       "Other / Non-Disclosed      11                 1.91%"
      ]
     },
     "execution_count": 31,
     "metadata": {},
     "output_type": "execute_result"
    }
   ],
   "source": [
    "#provide the percentage and count of male, female, and \"other\" players\n",
    "heroes_data_unique = heroes_data.drop_duplicates(\"SN\")\n",
    "\n",
    "#make a new list of gender counts based on the unique buyers\n",
    "gender_demographics = heroes_data_unique[\"Gender\"].value_counts()\n",
    "gender_demographics\n",
    "\n",
    "#create a new dataframe based on the gender demographics \n",
    "gender_demographics_df = pd.DataFrame(gender_demographics)\n",
    "\n",
    "#rename the gender column to total count of players\n",
    "gender_demographics_df.rename(columns={\"Gender\":\"Total Count\"})\n",
    "\n",
    "#identify the number of players in the first column of the gender domgraphics table\n",
    "number_players =gender_demographics_df.iloc[0:3,0]\n",
    "\n",
    "#divide the number of players by gender to get the percentage of players\n",
    "percentage_of_players = [((x/total_players)*100) for x in number_players]\n",
    "percentage_of_players\n",
    "\n",
    "#add the percentage of players to our gender demograohics datframe\n",
    "gender_demographics_df[\"Percentage of Players\"] = percentage_of_players\n",
    "gender_demographics_df[\"Percentage of Players\"] = gender_demographics_df[\"Percentage of Players\"].map(\"{:.2f}%\".format)\n",
    "\n",
    "gender_demographics_df"
   ]
  },
  {
   "cell_type": "code",
   "execution_count": 32,
   "metadata": {
    "jupyter": {
     "source_hidden": true
    }
   },
   "outputs": [
    {
     "data": {
      "text/html": [
       "<div>\n",
       "<style scoped>\n",
       "    .dataframe tbody tr th:only-of-type {\n",
       "        vertical-align: middle;\n",
       "    }\n",
       "\n",
       "    .dataframe tbody tr th {\n",
       "        vertical-align: top;\n",
       "    }\n",
       "\n",
       "    .dataframe thead th {\n",
       "        text-align: right;\n",
       "    }\n",
       "</style>\n",
       "<table border=\"1\" class=\"dataframe\">\n",
       "  <thead>\n",
       "    <tr style=\"text-align: right;\">\n",
       "      <th></th>\n",
       "      <th>Purchase Count</th>\n",
       "      <th>Average Purchase Price</th>\n",
       "      <th>Total Purchase Value</th>\n",
       "      <th>Total Purchase per Person</th>\n",
       "    </tr>\n",
       "    <tr>\n",
       "      <th>Gender</th>\n",
       "      <th></th>\n",
       "      <th></th>\n",
       "      <th></th>\n",
       "      <th></th>\n",
       "    </tr>\n",
       "  </thead>\n",
       "  <tbody>\n",
       "    <tr>\n",
       "      <th>Female</th>\n",
       "      <td>113</td>\n",
       "      <td>$3.20</td>\n",
       "      <td>$361.94</td>\n",
       "      <td>$4.47</td>\n",
       "    </tr>\n",
       "    <tr>\n",
       "      <th>Male</th>\n",
       "      <td>652</td>\n",
       "      <td>$3.02</td>\n",
       "      <td>$1967.64</td>\n",
       "      <td>$4.07</td>\n",
       "    </tr>\n",
       "    <tr>\n",
       "      <th>Other / Non-Disclosed</th>\n",
       "      <td>15</td>\n",
       "      <td>$3.35</td>\n",
       "      <td>$50.19</td>\n",
       "      <td>$4.56</td>\n",
       "    </tr>\n",
       "  </tbody>\n",
       "</table>\n",
       "</div>"
      ],
      "text/plain": [
       "                       Purchase Count Average Purchase Price  \\\n",
       "Gender                                                         \n",
       "Female                            113                  $3.20   \n",
       "Male                              652                  $3.02   \n",
       "Other / Non-Disclosed              15                  $3.35   \n",
       "\n",
       "                      Total Purchase Value Total Purchase per Person  \n",
       "Gender                                                                \n",
       "Female                             $361.94                     $4.47  \n",
       "Male                              $1967.64                     $4.07  \n",
       "Other / Non-Disclosed               $50.19                     $4.56  "
      ]
     },
     "execution_count": 32,
     "metadata": {},
     "output_type": "execute_result"
    }
   ],
   "source": [
    "#group the rows by gender and begin analyzing price data\n",
    "heroes_data_grouped= heroes_data.groupby([\"Gender\"])\n",
    "\n",
    "#count the total number of purchases (can use any column from the original dataset to calculate with a count)\n",
    "gender_count_total = heroes_data_grouped[\"Gender\"].count()\n",
    "\n",
    "#find the average purchase price for the grouped genders\n",
    "average_purchase_price = heroes_data_grouped[\"Price\"].mean()\n",
    "\n",
    "#how much did each gender purchase in total?\n",
    "gender_sum_price = heroes_data_grouped[\"Price\"].sum()\n",
    "\n",
    "\n",
    "#create a dataframe that includes amount of purchases, average purchase price for the purchases, the total amount \n",
    "#of the purchases, and the total purchase amount broken down by unique users see (number_players) calculation above\n",
    "purchase_gender_analysis = pd.DataFrame({\"Purchase Count\":gender_count_total,\n",
    "                                         \"Average Purchase Price\":average_purchase_price,\n",
    "                                         \"Total Purchase Value\":gender_sum_price,\n",
    "                                         \"Total Purchase per Person\":gender_sum_price/number_players})\n",
    "\n",
    "#map the formatting for the columns we want to look nice\n",
    "purchase_gender_analysis[\"Average Purchase Price\"]=purchase_gender_analysis[\"Average Purchase Price\"].map(\"${:.2f}\".format)\n",
    "purchase_gender_analysis[\"Total Purchase Value\"]=purchase_gender_analysis[\"Total Purchase Value\"].map(\"${:.2f}\".format)\n",
    "purchase_gender_analysis[\"Total Purchase per Person\"]=purchase_gender_analysis[\"Total Purchase per Person\"].map(\"${:.2f}\".format)\n",
    "\n",
    "#print the dataframe\n",
    "purchase_gender_analysis"
   ]
  },
  {
   "cell_type": "code",
   "execution_count": 33,
   "metadata": {
    "collapsed": true,
    "jupyter": {
     "outputs_hidden": true,
     "source_hidden": true
    }
   },
   "outputs": [
    {
     "name": "stderr",
     "output_type": "stream",
     "text": [
      "/Users/ryanngreen/anaconda3/lib/python3.7/site-packages/ipykernel_launcher.py:8: SettingWithCopyWarning: \n",
      "A value is trying to be set on a copy of a slice from a DataFrame.\n",
      "Try using .loc[row_indexer,col_indexer] = value instead\n",
      "\n",
      "See the caveats in the documentation: https://pandas.pydata.org/pandas-docs/stable/user_guide/indexing.html#returning-a-view-versus-a-copy\n",
      "  \n"
     ]
    },
    {
     "data": {
      "text/html": [
       "<div>\n",
       "<style scoped>\n",
       "    .dataframe tbody tr th:only-of-type {\n",
       "        vertical-align: middle;\n",
       "    }\n",
       "\n",
       "    .dataframe tbody tr th {\n",
       "        vertical-align: top;\n",
       "    }\n",
       "\n",
       "    .dataframe thead th {\n",
       "        text-align: right;\n",
       "    }\n",
       "</style>\n",
       "<table border=\"1\" class=\"dataframe\">\n",
       "  <thead>\n",
       "    <tr style=\"text-align: right;\">\n",
       "      <th></th>\n",
       "      <th>Total Count</th>\n",
       "      <th>Percentage of Players</th>\n",
       "    </tr>\n",
       "    <tr>\n",
       "      <th>Age Group</th>\n",
       "      <th></th>\n",
       "      <th></th>\n",
       "    </tr>\n",
       "  </thead>\n",
       "  <tbody>\n",
       "    <tr>\n",
       "      <th>&lt;10</th>\n",
       "      <td>17</td>\n",
       "      <td>2.95%</td>\n",
       "    </tr>\n",
       "    <tr>\n",
       "      <th>10-14</th>\n",
       "      <td>22</td>\n",
       "      <td>3.82%</td>\n",
       "    </tr>\n",
       "    <tr>\n",
       "      <th>15-19</th>\n",
       "      <td>107</td>\n",
       "      <td>18.58%</td>\n",
       "    </tr>\n",
       "    <tr>\n",
       "      <th>20-24</th>\n",
       "      <td>258</td>\n",
       "      <td>44.79%</td>\n",
       "    </tr>\n",
       "    <tr>\n",
       "      <th>25-29</th>\n",
       "      <td>77</td>\n",
       "      <td>13.37%</td>\n",
       "    </tr>\n",
       "    <tr>\n",
       "      <th>30-34</th>\n",
       "      <td>52</td>\n",
       "      <td>9.03%</td>\n",
       "    </tr>\n",
       "    <tr>\n",
       "      <th>35-39</th>\n",
       "      <td>31</td>\n",
       "      <td>5.38%</td>\n",
       "    </tr>\n",
       "    <tr>\n",
       "      <th>40+</th>\n",
       "      <td>12</td>\n",
       "      <td>2.08%</td>\n",
       "    </tr>\n",
       "  </tbody>\n",
       "</table>\n",
       "</div>"
      ],
      "text/plain": [
       "           Total Count Percentage of Players\n",
       "Age Group                                   \n",
       "<10                 17                 2.95%\n",
       "10-14               22                 3.82%\n",
       "15-19              107                18.58%\n",
       "20-24              258                44.79%\n",
       "25-29               77                13.37%\n",
       "30-34               52                 9.03%\n",
       "35-39               31                 5.38%\n",
       "40+                 12                 2.08%"
      ]
     },
     "execution_count": 33,
     "metadata": {},
     "output_type": "execute_result"
    }
   ],
   "source": [
    "#Create bins for age ranges\n",
    "bins=[0,9,14,19,24,29,34,39,46]\n",
    "\n",
    "#Group lists\n",
    "groups=[\"<10\",\"10-14\",\"15-19\",\"20-24\",\"25-29\",\"30-34\",\"35-39\",\"40+\"]\n",
    "\n",
    "#create a new column on the heroes_data unique df and make the values the bins based on the age\n",
    "heroes_data_unique[\"Age Group\"] = pd.cut(heroes_data_unique[\"Age\"], bins, labels=groups, right=True, include_lowest=True)\n",
    "heroes_data_unique\n",
    "\n",
    "#group the dataset based on the newly created Age Group column\n",
    "grouped_ages = heroes_data_unique.groupby([\"Age Group\"])\n",
    "count_of_ages = grouped_ages[\"SN\"].count()\n",
    "\n",
    "age_demographics= pd.DataFrame({\"Total Count\":count_of_ages,\n",
    "                \"Percentage of Players\": (count_of_ages/total_players)*100})\n",
    "\n",
    "age_demographics[\"Percentage of Players\"] = age_demographics[\"Percentage of Players\"].map(\"{:.2f}%\".format)\n",
    "age_demographics"
   ]
  },
  {
   "cell_type": "code",
   "execution_count": 19,
   "metadata": {
    "jupyter": {
     "source_hidden": true
    }
   },
   "outputs": [
    {
     "data": {
      "text/html": [
       "<div>\n",
       "<style scoped>\n",
       "    .dataframe tbody tr th:only-of-type {\n",
       "        vertical-align: middle;\n",
       "    }\n",
       "\n",
       "    .dataframe tbody tr th {\n",
       "        vertical-align: top;\n",
       "    }\n",
       "\n",
       "    .dataframe thead th {\n",
       "        text-align: right;\n",
       "    }\n",
       "</style>\n",
       "<table border=\"1\" class=\"dataframe\">\n",
       "  <thead>\n",
       "    <tr style=\"text-align: right;\">\n",
       "      <th></th>\n",
       "      <th>Purchase Count</th>\n",
       "      <th>Average Purchase Price</th>\n",
       "      <th>Total Purchase Value</th>\n",
       "      <th>Total Purchase per Person</th>\n",
       "    </tr>\n",
       "    <tr>\n",
       "      <th>Age Group</th>\n",
       "      <th></th>\n",
       "      <th></th>\n",
       "      <th></th>\n",
       "      <th></th>\n",
       "    </tr>\n",
       "  </thead>\n",
       "  <tbody>\n",
       "    <tr>\n",
       "      <th>&lt;10</th>\n",
       "      <td>23</td>\n",
       "      <td>$3.35</td>\n",
       "      <td>$77.13</td>\n",
       "      <td>$4.54</td>\n",
       "    </tr>\n",
       "    <tr>\n",
       "      <th>10-14</th>\n",
       "      <td>28</td>\n",
       "      <td>$2.96</td>\n",
       "      <td>$82.78</td>\n",
       "      <td>$3.76</td>\n",
       "    </tr>\n",
       "    <tr>\n",
       "      <th>15-19</th>\n",
       "      <td>136</td>\n",
       "      <td>$3.04</td>\n",
       "      <td>$412.89</td>\n",
       "      <td>$3.86</td>\n",
       "    </tr>\n",
       "    <tr>\n",
       "      <th>20-24</th>\n",
       "      <td>365</td>\n",
       "      <td>$3.05</td>\n",
       "      <td>$1,114.06</td>\n",
       "      <td>$4.32</td>\n",
       "    </tr>\n",
       "    <tr>\n",
       "      <th>25-29</th>\n",
       "      <td>101</td>\n",
       "      <td>$2.90</td>\n",
       "      <td>$293.00</td>\n",
       "      <td>$3.81</td>\n",
       "    </tr>\n",
       "    <tr>\n",
       "      <th>30-34</th>\n",
       "      <td>73</td>\n",
       "      <td>$2.93</td>\n",
       "      <td>$214.00</td>\n",
       "      <td>$4.12</td>\n",
       "    </tr>\n",
       "    <tr>\n",
       "      <th>35-39</th>\n",
       "      <td>41</td>\n",
       "      <td>$3.60</td>\n",
       "      <td>$147.67</td>\n",
       "      <td>$4.76</td>\n",
       "    </tr>\n",
       "    <tr>\n",
       "      <th>40+</th>\n",
       "      <td>13</td>\n",
       "      <td>$2.94</td>\n",
       "      <td>$38.24</td>\n",
       "      <td>$3.19</td>\n",
       "    </tr>\n",
       "  </tbody>\n",
       "</table>\n",
       "</div>"
      ],
      "text/plain": [
       "           Purchase Count Average Purchase Price Total Purchase Value  \\\n",
       "Age Group                                                               \n",
       "<10                    23                  $3.35               $77.13   \n",
       "10-14                  28                  $2.96               $82.78   \n",
       "15-19                 136                  $3.04              $412.89   \n",
       "20-24                 365                  $3.05            $1,114.06   \n",
       "25-29                 101                  $2.90              $293.00   \n",
       "30-34                  73                  $2.93              $214.00   \n",
       "35-39                  41                  $3.60              $147.67   \n",
       "40+                    13                  $2.94               $38.24   \n",
       "\n",
       "          Total Purchase per Person  \n",
       "Age Group                            \n",
       "<10                           $4.54  \n",
       "10-14                         $3.76  \n",
       "15-19                         $3.86  \n",
       "20-24                         $4.32  \n",
       "25-29                         $3.81  \n",
       "30-34                         $4.12  \n",
       "35-39                         $4.76  \n",
       "40+                           $3.19  "
      ]
     },
     "execution_count": 19,
     "metadata": {},
     "output_type": "execute_result"
    }
   ],
   "source": [
    "#create a new column on the heroes_data df and make the values the bins based on the age\n",
    "heroes_data[\"Age Group\"] = pd.cut(heroes_data[\"Age\"], bins, labels=groups, right=True, include_lowest=True)\n",
    "heroes_data_grouped = heroes_data.groupby(\"Age Group\")\n",
    "\n",
    "#create variables for dataframe\n",
    "age_purchase_count=heroes_data_grouped[\"Purchase ID\"].count()\n",
    "age_avepurchase_price=heroes_data_grouped[\"Price\"].mean()\n",
    "age_totalpurchase_value=heroes_data_grouped[\"Price\"].sum()\n",
    "\n",
    "#create the dataframe with the variables\n",
    "age_purchase_analysis = pd.DataFrame({\n",
    "                        \"Purchase Count\":age_purchase_count,\n",
    "                        \"Average Purchase Price\":age_avepurchase_price,\n",
    "                        \"Total Purchase Value\":age_totalpurchase_value,\n",
    "                        \"Total Purchase per Person\":age_totalpurchase_value/count_of_ages\n",
    "                        })\n",
    "\n",
    "#map the formatting for the columns\n",
    "age_purchase_analysis[\"Average Purchase Price\"]=age_purchase_analysis[\"Average Purchase Price\"].map(\"${:.2f}\".format)\n",
    "age_purchase_analysis[\"Total Purchase Value\"]=age_purchase_analysis[\"Total Purchase Value\"].map(\"${:,.2f}\".format)\n",
    "age_purchase_analysis[\"Total Purchase per Person\"]=age_purchase_analysis[\"Total Purchase per Person\"].map(\"${:.2f}\".format)\n",
    "\n",
    "age_purchase_analysis"
   ]
  },
  {
   "cell_type": "code",
   "execution_count": 20,
   "metadata": {
    "jupyter": {
     "source_hidden": true
    }
   },
   "outputs": [
    {
     "data": {
      "text/html": [
       "<div>\n",
       "<style scoped>\n",
       "    .dataframe tbody tr th:only-of-type {\n",
       "        vertical-align: middle;\n",
       "    }\n",
       "\n",
       "    .dataframe tbody tr th {\n",
       "        vertical-align: top;\n",
       "    }\n",
       "\n",
       "    .dataframe thead th {\n",
       "        text-align: right;\n",
       "    }\n",
       "</style>\n",
       "<table border=\"1\" class=\"dataframe\">\n",
       "  <thead>\n",
       "    <tr style=\"text-align: right;\">\n",
       "      <th></th>\n",
       "      <th>Purchase Count</th>\n",
       "      <th>AVG Purchase Value</th>\n",
       "      <th>Total Purchase Value</th>\n",
       "    </tr>\n",
       "    <tr>\n",
       "      <th>SN</th>\n",
       "      <th></th>\n",
       "      <th></th>\n",
       "      <th></th>\n",
       "    </tr>\n",
       "  </thead>\n",
       "  <tbody>\n",
       "    <tr>\n",
       "      <th>Lisosia93</th>\n",
       "      <td>5</td>\n",
       "      <td>$3.79</td>\n",
       "      <td>$18.96</td>\n",
       "    </tr>\n",
       "    <tr>\n",
       "      <th>Idastidru52</th>\n",
       "      <td>4</td>\n",
       "      <td>$3.86</td>\n",
       "      <td>$15.45</td>\n",
       "    </tr>\n",
       "    <tr>\n",
       "      <th>Chamjask73</th>\n",
       "      <td>3</td>\n",
       "      <td>$4.61</td>\n",
       "      <td>$13.83</td>\n",
       "    </tr>\n",
       "    <tr>\n",
       "      <th>Iral74</th>\n",
       "      <td>4</td>\n",
       "      <td>$3.40</td>\n",
       "      <td>$13.62</td>\n",
       "    </tr>\n",
       "    <tr>\n",
       "      <th>Iskadarya95</th>\n",
       "      <td>3</td>\n",
       "      <td>$4.37</td>\n",
       "      <td>$13.10</td>\n",
       "    </tr>\n",
       "  </tbody>\n",
       "</table>\n",
       "</div>"
      ],
      "text/plain": [
       "             Purchase Count AVG Purchase Value Total Purchase Value\n",
       "SN                                                                 \n",
       "Lisosia93                 5              $3.79               $18.96\n",
       "Idastidru52               4              $3.86               $15.45\n",
       "Chamjask73                3              $4.61               $13.83\n",
       "Iral74                    4              $3.40               $13.62\n",
       "Iskadarya95               3              $4.37               $13.10"
      ]
     },
     "execution_count": 20,
     "metadata": {},
     "output_type": "execute_result"
    }
   ],
   "source": [
    "#groupby sn find the total purchase count,  average purchase price, and total purchase value\n",
    "purchasers_group= heroes_data.groupby(\"SN\")\n",
    "\n",
    "\n",
    "\n",
    "ind_count_purchases = purchasers_group[\"Price\"].count()\n",
    "ind_avg_purchase_value = purchasers_group[\"Price\"].mean()\n",
    "ind_sum_purchase_value = purchasers_group[\"Price\"].sum()\n",
    "\n",
    "\n",
    "#dataframe for individual purchase analysis and sort by the purchase count\n",
    "top_spenders_df = pd.DataFrame({\n",
    "                \"Purchase Count\": ind_count_purchases,\n",
    "                \"AVG Purchase Value\": ind_avg_purchase_value,\n",
    "                \"Total Purchase Value\": ind_sum_purchase_value\n",
    "})\n",
    "\n",
    "#pass the sorted dataframe into a new variable so we don't overwrite the original contents of the top spenders dataframe\n",
    "top_spenders_sorted_df=top_spenders_df.sort_values(\"Total Purchase Value\", ascending=False).head()\n",
    "\n",
    "top_spenders_sorted_df[\"AVG Purchase Value\"] = top_spenders_sorted_df[\"AVG Purchase Value\"].map(\"${:.2f}\".format)\n",
    "top_spenders_sorted_df[\"Total Purchase Value\"] = top_spenders_sorted_df[\"Total Purchase Value\"].map(\"${:.2f}\".format)\n",
    "\n",
    "top_spenders_sorted_df.sort_values(\"Total Purchase Value\", ascending=False).head()"
   ]
  },
  {
   "cell_type": "code",
   "execution_count": 21,
   "metadata": {
    "jupyter": {
     "source_hidden": true
    }
   },
   "outputs": [
    {
     "data": {
      "text/html": [
       "<div>\n",
       "<style scoped>\n",
       "    .dataframe tbody tr th:only-of-type {\n",
       "        vertical-align: middle;\n",
       "    }\n",
       "\n",
       "    .dataframe tbody tr th {\n",
       "        vertical-align: top;\n",
       "    }\n",
       "\n",
       "    .dataframe thead th {\n",
       "        text-align: right;\n",
       "    }\n",
       "</style>\n",
       "<table border=\"1\" class=\"dataframe\">\n",
       "  <thead>\n",
       "    <tr style=\"text-align: right;\">\n",
       "      <th></th>\n",
       "      <th></th>\n",
       "      <th>Purchase Count</th>\n",
       "      <th>Item Price</th>\n",
       "      <th>Total Purchase Value</th>\n",
       "    </tr>\n",
       "    <tr>\n",
       "      <th>Item ID</th>\n",
       "      <th>Item Name</th>\n",
       "      <th></th>\n",
       "      <th></th>\n",
       "      <th></th>\n",
       "    </tr>\n",
       "  </thead>\n",
       "  <tbody>\n",
       "    <tr>\n",
       "      <th>92</th>\n",
       "      <th>Final Critic</th>\n",
       "      <td>13</td>\n",
       "      <td>$4.61</td>\n",
       "      <td>$59.99</td>\n",
       "    </tr>\n",
       "    <tr>\n",
       "      <th>178</th>\n",
       "      <th>Oathbreaker, Last Hope of the Breaking Storm</th>\n",
       "      <td>12</td>\n",
       "      <td>$4.23</td>\n",
       "      <td>$50.76</td>\n",
       "    </tr>\n",
       "    <tr>\n",
       "      <th>145</th>\n",
       "      <th>Fiery Glass Crusader</th>\n",
       "      <td>9</td>\n",
       "      <td>$4.58</td>\n",
       "      <td>$41.22</td>\n",
       "    </tr>\n",
       "    <tr>\n",
       "      <th>108</th>\n",
       "      <th>Extraction, Quickblade Of Trembling Hands</th>\n",
       "      <td>9</td>\n",
       "      <td>$3.53</td>\n",
       "      <td>$31.77</td>\n",
       "    </tr>\n",
       "    <tr>\n",
       "      <th>132</th>\n",
       "      <th>Persuasion</th>\n",
       "      <td>9</td>\n",
       "      <td>$3.22</td>\n",
       "      <td>$28.99</td>\n",
       "    </tr>\n",
       "  </tbody>\n",
       "</table>\n",
       "</div>"
      ],
      "text/plain": [
       "                                                      Purchase Count  \\\n",
       "Item ID Item Name                                                      \n",
       "92      Final Critic                                              13   \n",
       "178     Oathbreaker, Last Hope of the Breaking Storm              12   \n",
       "145     Fiery Glass Crusader                                       9   \n",
       "108     Extraction, Quickblade Of Trembling Hands                  9   \n",
       "132     Persuasion                                                 9   \n",
       "\n",
       "                                                     Item Price  \\\n",
       "Item ID Item Name                                                 \n",
       "92      Final Critic                                      $4.61   \n",
       "178     Oathbreaker, Last Hope of the Breaking Storm      $4.23   \n",
       "145     Fiery Glass Crusader                              $4.58   \n",
       "108     Extraction, Quickblade Of Trembling Hands         $3.53   \n",
       "132     Persuasion                                        $3.22   \n",
       "\n",
       "                                                     Total Purchase Value  \n",
       "Item ID Item Name                                                          \n",
       "92      Final Critic                                               $59.99  \n",
       "178     Oathbreaker, Last Hope of the Breaking Storm               $50.76  \n",
       "145     Fiery Glass Crusader                                       $41.22  \n",
       "108     Extraction, Quickblade Of Trembling Hands                  $31.77  \n",
       "132     Persuasion                                                 $28.99  "
      ]
     },
     "execution_count": 21,
     "metadata": {},
     "output_type": "execute_result"
    }
   ],
   "source": [
    "popular_items_group = heroes_data.groupby([\"Item ID\",\"Item Name\"])\n",
    "item_purchase_count = popular_items_group[\"Price\"].count()\n",
    "item_price = popular_items_group[\"Price\"].mean()\n",
    "item_purchase_value =popular_items_group[\"Price\"].sum()\n",
    "\n",
    "popular_items_df = pd.DataFrame({\n",
    "                    \"Purchase Count\": item_purchase_count,\n",
    "                    \"Item Price\":item_price,\n",
    "                    \"Total Purchase Value\": item_purchase_value\n",
    "})\n",
    "\n",
    "popular_items = popular_items_df.sort_values(\"Purchase Count\",ascending=False).head()\n",
    "\n",
    "\n",
    "popular_items.sort_values(\"Total Purchase Value\", ascending=False)\n",
    "\n",
    "sorted_popular_items = popular_items.sort_values(\"Total Purchase Value\", ascending=False)\n",
    "\n",
    "sorted_popular_items[\"Total Purchase Value\"]=sorted_popular_items[\"Total Purchase Value\"].map(\"${:.2f}\".format)\n",
    "sorted_popular_items[\"Item Price\"]=sorted_popular_items[\"Item Price\"].map(\"${:.2f}\".format)\n",
    "\n",
    "sorted_popular_items"
   ]
  },
  {
   "cell_type": "code",
   "execution_count": 22,
   "metadata": {
    "jupyter": {
     "source_hidden": true
    }
   },
   "outputs": [
    {
     "name": "stdout",
     "output_type": "stream",
     "text": [
      "There are 3 obervable trends based on the data provided.\n"
     ]
    }
   ],
   "source": [
    "print(\"There are 3 obervable trends based on the data provided.\")"
   ]
  },
  {
   "cell_type": "code",
   "execution_count": 23,
   "metadata": {
    "jupyter": {
     "source_hidden": true
    }
   },
   "outputs": [
    {
     "name": "stdout",
     "output_type": "stream",
     "text": [
      "1. More males play this game, as they make up 84% of the players\n"
     ]
    }
   ],
   "source": [
    "print(\"1. More males play this game, as they make up 84% of the players\")"
   ]
  },
  {
   "cell_type": "code",
   "execution_count": 24,
   "metadata": {
    "jupyter": {
     "source_hidden": true
    }
   },
   "outputs": [
    {
     "name": "stdout",
     "output_type": "stream",
     "text": [
      "2. The majority of the players of this game (77%) range from ages 15-29.\n"
     ]
    }
   ],
   "source": [
    "print (\"2. The majority of the players of this game (77%) range from ages 15-29.\")"
   ]
  },
  {
   "cell_type": "code",
   "execution_count": 26,
   "metadata": {
    "jupyter": {
     "source_hidden": true
    }
   },
   "outputs": [
    {
     "name": "stdout",
     "output_type": "stream",
     "text": [
      "3. The Final Critic and Oathbreaker, Last Hope of the Breaking Storm are our most popular items to purchase. \n"
     ]
    }
   ],
   "source": [
    "print(\"3. The Final Critic and Oathbreaker, Last Hope of the Breaking Storm are our most popular items to purchase. \")"
   ]
  },
  {
   "cell_type": "code",
   "execution_count": null,
   "metadata": {},
   "outputs": [],
   "source": []
  }
 ],
 "metadata": {
  "kernelspec": {
   "display_name": "Python 3",
   "language": "python",
   "name": "python3"
  },
  "language_info": {
   "codemirror_mode": {
    "name": "ipython",
    "version": 3
   },
   "file_extension": ".py",
   "mimetype": "text/x-python",
   "name": "python",
   "nbconvert_exporter": "python",
   "pygments_lexer": "ipython3",
   "version": "3.7.6"
  }
 },
 "nbformat": 4,
 "nbformat_minor": 4
}
